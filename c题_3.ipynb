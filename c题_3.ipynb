{
 "cells": [
  {
   "cell_type": "markdown",
   "metadata": {},
   "source": [
    "C题附件2预测\n"
   ]
  },
  {
   "cell_type": "code",
   "execution_count": 37,
   "metadata": {},
   "outputs": [
    {
     "ename": "ValueError",
     "evalue": "Length mismatch: Expected axis has 8 elements, new values have 240 elements",
     "output_type": "error",
     "traceback": [
      "\u001b[1;31m---------------------------------------------------------------------------\u001b[0m",
      "\u001b[1;31mValueError\u001b[0m                                Traceback (most recent call last)",
      "\u001b[1;32m<ipython-input-37-9a513f04059d>\u001b[0m in \u001b[0;36m<module>\u001b[1;34m()\u001b[0m\n\u001b[0;32m     21\u001b[0m \u001b[0mt\u001b[0m \u001b[1;33m=\u001b[0m \u001b[0mpd\u001b[0m\u001b[1;33m.\u001b[0m\u001b[0mperiod_range\u001b[0m\u001b[1;33m(\u001b[0m\u001b[1;34m'2017-2-1'\u001b[0m\u001b[1;33m,\u001b[0m \u001b[0mperiods\u001b[0m\u001b[1;33m=\u001b[0m\u001b[1;36m240\u001b[0m\u001b[1;33m,\u001b[0m \u001b[0mfreq\u001b[0m\u001b[1;33m=\u001b[0m\u001b[1;34m'w'\u001b[0m\u001b[1;33m)\u001b[0m\u001b[1;33m\u001b[0m\u001b[0m\n\u001b[0;32m     22\u001b[0m \u001b[0mindex\u001b[0m \u001b[1;33m=\u001b[0m \u001b[0mpd\u001b[0m\u001b[1;33m.\u001b[0m\u001b[0mPeriodIndex\u001b[0m\u001b[1;33m(\u001b[0m\u001b[0mt\u001b[0m\u001b[1;33m,\u001b[0m\u001b[0mfreq\u001b[0m\u001b[1;33m=\u001b[0m\u001b[1;34m'd'\u001b[0m\u001b[1;33m)\u001b[0m\u001b[1;33m\u001b[0m\u001b[0m\n\u001b[1;32m---> 23\u001b[1;33m \u001b[0mdata\u001b[0m\u001b[1;33m.\u001b[0m\u001b[0mindex\u001b[0m\u001b[1;33m=\u001b[0m\u001b[0mindex\u001b[0m\u001b[1;33m\u001b[0m\u001b[0m\n\u001b[0m",
      "\u001b[1;32m~\\Anaconda3\\lib\\site-packages\\pandas\\core\\generic.py\u001b[0m in \u001b[0;36m__setattr__\u001b[1;34m(self, name, value)\u001b[0m\n\u001b[0;32m   4387\u001b[0m         \u001b[1;32mtry\u001b[0m\u001b[1;33m:\u001b[0m\u001b[1;33m\u001b[0m\u001b[0m\n\u001b[0;32m   4388\u001b[0m             \u001b[0mobject\u001b[0m\u001b[1;33m.\u001b[0m\u001b[0m__getattribute__\u001b[0m\u001b[1;33m(\u001b[0m\u001b[0mself\u001b[0m\u001b[1;33m,\u001b[0m \u001b[0mname\u001b[0m\u001b[1;33m)\u001b[0m\u001b[1;33m\u001b[0m\u001b[0m\n\u001b[1;32m-> 4389\u001b[1;33m             \u001b[1;32mreturn\u001b[0m \u001b[0mobject\u001b[0m\u001b[1;33m.\u001b[0m\u001b[0m__setattr__\u001b[0m\u001b[1;33m(\u001b[0m\u001b[0mself\u001b[0m\u001b[1;33m,\u001b[0m \u001b[0mname\u001b[0m\u001b[1;33m,\u001b[0m \u001b[0mvalue\u001b[0m\u001b[1;33m)\u001b[0m\u001b[1;33m\u001b[0m\u001b[0m\n\u001b[0m\u001b[0;32m   4390\u001b[0m         \u001b[1;32mexcept\u001b[0m \u001b[0mAttributeError\u001b[0m\u001b[1;33m:\u001b[0m\u001b[1;33m\u001b[0m\u001b[0m\n\u001b[0;32m   4391\u001b[0m             \u001b[1;32mpass\u001b[0m\u001b[1;33m\u001b[0m\u001b[0m\n",
      "\u001b[1;32mpandas\\_libs\\properties.pyx\u001b[0m in \u001b[0;36mpandas._libs.properties.AxisProperty.__set__\u001b[1;34m()\u001b[0m\n",
      "\u001b[1;32m~\\Anaconda3\\lib\\site-packages\\pandas\\core\\generic.py\u001b[0m in \u001b[0;36m_set_axis\u001b[1;34m(self, axis, labels)\u001b[0m\n\u001b[0;32m    644\u001b[0m \u001b[1;33m\u001b[0m\u001b[0m\n\u001b[0;32m    645\u001b[0m     \u001b[1;32mdef\u001b[0m \u001b[0m_set_axis\u001b[0m\u001b[1;33m(\u001b[0m\u001b[0mself\u001b[0m\u001b[1;33m,\u001b[0m \u001b[0maxis\u001b[0m\u001b[1;33m,\u001b[0m \u001b[0mlabels\u001b[0m\u001b[1;33m)\u001b[0m\u001b[1;33m:\u001b[0m\u001b[1;33m\u001b[0m\u001b[0m\n\u001b[1;32m--> 646\u001b[1;33m         \u001b[0mself\u001b[0m\u001b[1;33m.\u001b[0m\u001b[0m_data\u001b[0m\u001b[1;33m.\u001b[0m\u001b[0mset_axis\u001b[0m\u001b[1;33m(\u001b[0m\u001b[0maxis\u001b[0m\u001b[1;33m,\u001b[0m \u001b[0mlabels\u001b[0m\u001b[1;33m)\u001b[0m\u001b[1;33m\u001b[0m\u001b[0m\n\u001b[0m\u001b[0;32m    647\u001b[0m         \u001b[0mself\u001b[0m\u001b[1;33m.\u001b[0m\u001b[0m_clear_item_cache\u001b[0m\u001b[1;33m(\u001b[0m\u001b[1;33m)\u001b[0m\u001b[1;33m\u001b[0m\u001b[0m\n\u001b[0;32m    648\u001b[0m \u001b[1;33m\u001b[0m\u001b[0m\n",
      "\u001b[1;32m~\\Anaconda3\\lib\\site-packages\\pandas\\core\\internals.py\u001b[0m in \u001b[0;36mset_axis\u001b[1;34m(self, axis, new_labels)\u001b[0m\n\u001b[0;32m   3321\u001b[0m             raise ValueError(\n\u001b[0;32m   3322\u001b[0m                 \u001b[1;34m'Length mismatch: Expected axis has {old} elements, new '\u001b[0m\u001b[1;33m\u001b[0m\u001b[0m\n\u001b[1;32m-> 3323\u001b[1;33m                 'values have {new} elements'.format(old=old_len, new=new_len))\n\u001b[0m\u001b[0;32m   3324\u001b[0m \u001b[1;33m\u001b[0m\u001b[0m\n\u001b[0;32m   3325\u001b[0m         \u001b[0mself\u001b[0m\u001b[1;33m.\u001b[0m\u001b[0maxes\u001b[0m\u001b[1;33m[\u001b[0m\u001b[0maxis\u001b[0m\u001b[1;33m]\u001b[0m \u001b[1;33m=\u001b[0m \u001b[0mnew_labels\u001b[0m\u001b[1;33m\u001b[0m\u001b[0m\n",
      "\u001b[1;31mValueError\u001b[0m: Length mismatch: Expected axis has 8 elements, new values have 240 elements"
     ]
    }
   ],
   "source": [
    "import pandas as pd\n",
    "import matplotlib.pyplot as plt\n",
    "from scipy import stats\n",
    "import numpy as np\n",
    "from statsmodels.graphics.tsaplots import plot_acf, plot_pacf\n",
    "import itertools\n",
    "import statsmodels.api as sm\n",
    "import warnings\n",
    "warnings.filterwarnings(\"ignore\")\n",
    "\n",
    "from statsmodels.tsa.stattools import adfuller  # 单位根检验\n",
    "from statsmodels.tsa.arima_model import ARIMA\n",
    "from statsmodels.stats.diagnostic import acorr_ljungbox  # 白噪声检验\n",
    "\n",
    "# 绘图支持中文\n",
    "plt.rcParams['font.sans-serif'] = ['SimHei']  # 用来正常显示中文标签\n",
    "plt.rcParams['axes.unicode_minus'] = False  # 用来正常显示负号\n",
    "\n",
    "data = pd.read_excel('C_附件2.xlsx')\n",
    "\n",
    "t = pd.period_range('2017-2-1', periods=240, freq='w')\n",
    "index = pd.PeriodIndex(t,freq='d')\n",
    "data.index=index"
   ]
  },
  {
   "cell_type": "code",
   "execution_count": 16,
   "metadata": {},
   "outputs": [],
   "source": [
    "def get_pdq(dy_24):\n",
    "    '模型定阶'\n",
    "    \n",
    "    p = q =range(0,2)\n",
    "    d = range(0,2)\n",
    "    pdq = list(itertools.product(p,d,q))\n",
    "    seasonal_pdq = [(x[0],x[1],x[2],24) for x in list(itertools.product(p,d,q))]\n",
    "    out = []\n",
    "    for param in pdq:\n",
    "        for ps in seasonal_pdq:\n",
    "            try:\n",
    "                mod = sm.tsa.statespace.SARIMAX(dy_24,\n",
    "                                               order=param,\n",
    "                                               seasonal_order=ps,\n",
    "                                               enforce_stationarity=False,\n",
    "                                               enforce_invertibility=False)\n",
    "                results = mod.fit()\n",
    "#                 print('ARIMA{}*{} - AIC:{}'.format(param,ps,results.aic))\n",
    "                out.append([param,ps,results.aic])\n",
    "            except:\n",
    "                continue\n",
    "    return out\n",
    "\n",
    "def forecast_y(par,dy):\n",
    "    '预测'\n",
    "    aic = pd.DataFrame([x[2] for x in par])\n",
    "    i = aic.idxmin().loc[0]\n",
    "    order = par[i][0]\n",
    "    seasonal_order = par[i][1]\n",
    "    mod = sm.tsa.statespace.SARIMAX(dy,\n",
    "                                               order=order,\n",
    "                                               seasonal_order=seasonal_order,\n",
    "                                               enforce_stationarity=False,\n",
    "                                               enforce_invertibility=False)\n",
    "    results = mod.fit()\n",
    "    pre = results.predict()\n",
    "    forecast = results.forecast(24)\n",
    "    return forecast,pre"
   ]
  },
  {
   "cell_type": "code",
   "execution_count": 62,
   "metadata": {},
   "outputs": [
    {
     "name": "stdout",
     "output_type": "stream",
     "text": [
      "正在预测第 1 个转运商的损耗率,请稍候...     --> 最优预测模型为：ARIMA(1, 0, 0)*(0, 0, 1, 24)\n",
      "正在预测第 2 个转运商的损耗率,请稍候...     --> 最优预测模型为：ARIMA(0, 1, 1)*(1, 0, 1, 24)\n",
      "正在预测第 3 个转运商的损耗率,请稍候...     --> 最优预测模型为：ARIMA(1, 0, 1)*(1, 0, 1, 24)\n",
      "正在预测第 4 个转运商的损耗率,请稍候...     --> 最优预测模型为：ARIMA(1, 0, 1)*(0, 0, 1, 24)\n",
      "正在预测第 5 个转运商的损耗率,请稍候...     --> 最优预测模型为：ARIMA(1, 0, 1)*(1, 1, 1, 24)\n",
      "正在预测第 6 个转运商的损耗率,请稍候...     --> 最优预测模型为：ARIMA(1, 0, 0)*(0, 0, 0, 24)\n",
      "正在预测第 7 个转运商的损耗率,请稍候...     --> 最优预测模型为：ARIMA(1, 1, 1)*(0, 0, 1, 24)\n",
      "正在预测第 8 个转运商的损耗率,请稍候...     --> 最优预测模型为：ARIMA(0, 0, 0)*(0, 0, 1, 24)\n"
     ]
    }
   ],
   "source": [
    "# 预测24周的转运商损耗\n",
    "out = pd.DataFrame()\n",
    "fore_out=pd.DataFrame()\n",
    "\n",
    "for n in range(data.T.shape[1]):  # data.T.shape[1]\n",
    "    print('正在预测第 {} 个转运商的损耗率,请稍候...'.format(n+1),end='    ')\n",
    "    y = data.T.iloc[1:,n]\n",
    "    dy_24 = y.diff(24).dropna().astype('float')\n",
    "    \n",
    "    # 模型定阶\n",
    "    par = get_pdq(dy_24)\n",
    "    \n",
    "    aic = pd.DataFrame([x[2] for x in par])\n",
    "    i = aic.idxmin().loc[0]\n",
    "    order = par[i][0]\n",
    "    seasonal_order = par[i][1]\n",
    "    print(' --> 最优预测模型为：ARIMA{}*{}'.format(order,seasonal_order))\n",
    "    \n",
    "    # 向后预测24周\n",
    "    fore,pre=forecast_y(par,dy_24)\n",
    "    \n",
    "    #还原数据\n",
    "    t = pd.period_range('2021-9-12', periods=24, freq='w')\n",
    "    index = pd.PeriodIndex(t,freq='d')\n",
    "    fore.index = index\n",
    "    tem = y[-24:].copy()\n",
    "    tem.index = index\n",
    "#     y = data2_T.iloc[:,n]\n",
    "#     forecast =pd.concat([y,fore+tem])\n",
    "#     plt.figure(figsize=[16,6])\n",
    "#     plt.plot(forecast.dropna(),'g')\n",
    "#     plt.plot(y,'r')\n",
    "#     plt.show()\n",
    "    te = fore.astype('float')+tem\n",
    "    te[te<0]=0\n",
    "    new_y = pd.concat([y.shift(24).dropna().astype('float')+pre.astype('float'),te],axis=0)\n",
    "    new_y[new_y<0]=0\n",
    "    \n",
    "    out['T'+str(n+1).zfill(3)] = te\n",
    "    fore_out['T'+str(n+1).zfill(3)] = new_y\n",
    "    \n",
    "out.index = ['第'+ str(i+1).zfill(2) + '周' for i in range(24)]\n",
    "out.T.to_excel('转运商预测结果_24周.xlsx')\n",
    "\n",
    "fore_out.index = ['第'+ str(i+25).zfill(2) + '周' for i in range(240)]\n",
    "fore_out.T.to_excel('转运商预测结果_全部.xlsx')"
   ]
  },
  {
   "cell_type": "code",
   "execution_count": 61,
   "metadata": {},
   "outputs": [
    {
     "data": {
      "text/plain": [
       "<matplotlib.axes._subplots.AxesSubplot at 0x2222e8b1940>"
      ]
     },
     "execution_count": 61,
     "metadata": {},
     "output_type": "execute_result"
    },
    {
     "data": {
      "image/png": "[encoded data removed]",
      "text/plain": [
       "<Figure size 432x288 with 1 Axes>"
      ]
     },
     "metadata": {
      "needs_background": "light"
     },
     "output_type": "display_data"
    }
   ],
   "source": [
    "fore_out.iloc[:,1].plot()\n",
    "data.T.iloc[1:,1].plot()"
   ]
  },
  {
   "cell_type": "code",
   "execution_count": 56,
   "metadata": {},
   "outputs": [
    {
     "data": {
      "text/plain": [
       "W025         0.7092\n",
       "W026          1.773\n",
       "W027         0.5319\n",
       "W028         1.9503\n",
       "W029    1.86286e-07\n",
       "W030         0.7092\n",
       "W031         1.5957\n",
       "W032         1.4184\n",
       "W033         0.8865\n",
       "W034         0.3546\n",
       "W035         0.8865\n",
       "W036         5.5319\n",
       "W037         -3.227\n",
       "W038         1.2411\n",
       "W039         0.8865\n",
       "W040        -0.1773\n",
       "W041        -0.1773\n",
       "W042         0.7092\n",
       "W043         1.2411\n",
       "W044         1.2411\n",
       "W045         0.5319\n",
       "W046         0.1773\n",
       "W047         1.2411\n",
       "W048         1.4184\n",
       "W049        1.20591\n",
       "W050       0.756115\n",
       "W051     -0.0234579\n",
       "W052       0.266506\n",
       "W053       0.929526\n",
       "W054         1.5796\n",
       "           ...     \n",
       "W211       0.784649\n",
       "W212        1.16187\n",
       "W213        1.01495\n",
       "W214       0.843028\n",
       "W215       0.876173\n",
       "W216       0.733925\n",
       "W217       0.717735\n",
       "W218        1.16413\n",
       "W219       0.676682\n",
       "W220       0.842316\n",
       "W221       0.713059\n",
       "W222       0.938839\n",
       "W223       0.690095\n",
       "W224       0.961591\n",
       "W225       0.940425\n",
       "W226       0.782962\n",
       "W227       0.705902\n",
       "W228       0.667346\n",
       "W229       0.804335\n",
       "W230       0.764269\n",
       "W231       0.535548\n",
       "W232       0.630895\n",
       "W233       0.688144\n",
       "W234       0.440839\n",
       "W235       0.587051\n",
       "W236       0.853237\n",
       "W237       0.668939\n",
       "W238       0.495946\n",
       "W239       0.643102\n",
       "W240       0.488085\n",
       "Length: 216, dtype: object"
      ]
     },
     "execution_count": 56,
     "metadata": {},
     "output_type": "execute_result"
    }
   ],
   "source": [
    "y.shift(24).dropna()+pre"
   ]
  }
 ],
 "metadata": {
  "kernelspec": {
   "display_name": "Python 3",
   "language": "python",
   "name": "python3"
  },
  "language_info": {
   "codemirror_mode": {
    "name": "ipython",
    "version": 3
   },
   "file_extension": ".py",
   "mimetype": "text/x-python",
   "name": "python",
   "nbconvert_exporter": "python",
   "pygments_lexer": "ipython3",
   "version": "3.7.0"
  }
 },
 "nbformat": 4,
 "nbformat_minor": 2
}
